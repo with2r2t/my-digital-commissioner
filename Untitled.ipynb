{
 "cells": [
  {
   "cell_type": "code",
   "execution_count": 13,
   "id": "e13d5869-fb2c-44f0-bb9f-787472f73acb",
   "metadata": {},
   "outputs": [
    {
     "name": "stdout",
     "output_type": "stream",
     "text": [
      "{0: {'points': 114.8, 'breakdown': {'receivingReceptions': 54.0, 'receivingYards': 47.375, 'receivingTouchdowns': 2.0, '47': 145.0, '48': 70.0, '49': 29.0, '50': 25.0, '51': 10.0, '54': 4.0, 'receivingTargets': 87.0, 'receivingYardsAfterCatch': 323.0, 'receivingYardsPerReception': 14.03703704, '67': 1.0, 'defensiveSoloTackles': 1.0, 'defensiveTotalTackles': 1.0, 'teamWin': 8.0, 'teamLoss': 8.0, 'pointsScored': 12.0, '184': 1.0, '185': 1.0, '210': 16.0, '213': 28.0}, 'avg_points': 7.17, 'projected_points': 0.0, 'projected_breakdown': {'210': 15.11764706}, 'projected_avg_points': 0.0}, 18: {'projected_points': 7.42, 'projected_breakdown': {'receivingYards': 47.28087454, 'receivingTouchdowns': 0.195232957, 'receiving2PtConversions': 0.014022229, 'receiving40PlusYardTD': 0.016890676, 'receiving50PlusYardTD': 0.011038057, '47': 9.0, '48': 4.0, '49': 2.0, '50': 1.0, 'receivingReceptions': 3.127389711, 'receiving100To199YardGame': 0.082790266, 'receiving200PlusYardGame': 0.00256, 'receivingTargets': 5.296165638, 'receivingYardsPerReception': 15.11831876, '2PtConversions': 0.014022229, 'fumbleRecoveredForTD': 0.000269, '67': 0.061093688, 'fumbles': 0.061093688, '71': 0.034212465, 'lostFumbles': 0.034212465, 'turnovers': 0.034212465, '210': 1.0, '213': 2.028860114}, 'projected_avg_points': 0, 'points': 15.4, 'breakdown': {'receivingReceptions': 3.0, 'receivingYards': 79.0, 'receivingTouchdowns': 1.0, '47': 15.0, '48': 7.0, '49': 3.0, '50': 3.0, '51': 1.0, 'receivingTargets': 6.0, 'receivingYardsAfterCatch': 42.0, 'receivingYardsPerReception': 26.333, 'teamLoss': 1.0, 'pointsScored': 6.0, '185': 1.0, '210': 1.0, '213': 2.0}, 'avg_points': 0}}\n"
     ]
    }
   ],
   "source": [
    "\n",
    "import pandas as pd\n",
    "import seaborn as sns\n",
    "from matplotlib import pyplot as plt\n",
    "from espn_api.football import League\n",
    "\n",
    "league = League(league_id=592115, year=2023)\n",
    "\n",
    "box_scores = league.box_scores(12)\n",
    "#print(box_scores[1].home_lineup)\n",
    "\n",
    "team = league.teams[0]\n",
    "player = team.roster[0]\n",
    "\n",
    "print(player.stats)\n",
    "#df = pd.read_csv('datasets/2019.csv')\n",
    "\n",
    "#df.drop(['Rk', '2PM', 'FantPt', 'DKPt', 'FDPt', 'VBD', 'PosRank', 'OvRank', 'PPR', 'Fmb', 'GS'], axis=1, inplace =True)\n",
    "\n",
    "#df['Player'] = df['Player'].apply(lambda x: x.split('*')[0]).apply(lambda x: x.split('\\\\')[0])\n",
    "\n",
    "#df"
   ]
  },
  {
   "cell_type": "code",
   "execution_count": null,
   "id": "ded65de8-0665-4d4d-9b7a-f0a56724d3f1",
   "metadata": {},
   "outputs": [],
   "source": [
    "def scoreForm"
   ]
  },
  {
   "cell_type": "code",
   "execution_count": null,
   "id": "d26d59a0-c15b-4e53-9409-76cf17bb295a",
   "metadata": {},
   "outputs": [],
   "source": []
  }
 ],
 "metadata": {
  "kernelspec": {
   "display_name": "Python 3 (ipykernel)",
   "language": "python",
   "name": "python3"
  },
  "language_info": {
   "codemirror_mode": {
    "name": "ipython",
    "version": 3
   },
   "file_extension": ".py",
   "mimetype": "text/x-python",
   "name": "python",
   "nbconvert_exporter": "python",
   "pygments_lexer": "ipython3",
   "version": "3.12.4"
  }
 },
 "nbformat": 4,
 "nbformat_minor": 5
}
